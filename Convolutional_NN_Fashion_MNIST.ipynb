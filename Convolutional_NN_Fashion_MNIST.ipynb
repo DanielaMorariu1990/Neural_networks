{
  "nbformat": 4,
  "nbformat_minor": 0,
  "metadata": {
    "colab": {
      "name": "Convolutional_NN_Fashion_MNIST.ipynb",
      "provenance": [],
      "collapsed_sections": [
        "_wAoXCFCoRvh"
      ]
    },
    "kernelspec": {
      "name": "python3",
      "display_name": "Python 3"
    }
  },
  "cells": [
    {
      "cell_type": "markdown",
      "metadata": {
        "id": "t1trHp3TRm-9"
      },
      "source": [
        "# Fashion MNIST deep learning classification problem with CNN"
      ]
    },
    {
      "cell_type": "code",
      "metadata": {
        "id": "QSVDaDr1A5J7"
      },
      "source": [
        "from tensorflow.keras.layers import Dense, Dropout, BatchNormalization, Conv2D, MaxPooling2D\n",
        "from tensorflow.keras import layers\n",
        "from tensorflow.keras import Sequential\n",
        "from tensorflow.keras.callbacks import EarlyStopping\n",
        "from tensorflow.keras.utils import to_categorical\n",
        "import tensorflow as tf\n",
        "import matplotlib.pyplot as plt\n",
        "import numpy as np\n",
        "import types\n",
        "import pandas as pd\n",
        "from tensorflow.keras.models import load_model"
      ],
      "execution_count": 6,
      "outputs": []
    },
    {
      "source": [
        "Reading in data"
      ],
      "cell_type": "markdown",
      "metadata": {}
    },
    {
      "cell_type": "code",
      "metadata": {
        "colab": {
          "base_uri": "https://localhost:8080/"
        },
        "id": "IShmFvn3hN6v",
        "outputId": "9a89f847-6213-4514-b867-c96a3dc382a9"
      },
      "source": [
        "fashion = pd.read_csv(\"/content/fashion-mnist_train.csv\")\n",
        "labels = pd.read_csv(\"/content/label_names.csv\")\n",
        "fashion.join(labels, on=\"label\")[\"Description\"].value_counts()\n",
        "fashion.join(labels, on=\"label\")[\"Description\"].value_counts()"
      ],
      "execution_count": 7,
      "outputs": [
        {
          "output_type": "execute_result",
          "data": {
            "text/plain": [
              "Trouser        6000\n",
              "Shirt          6000\n",
              "Bag            6000\n",
              "Coat           6000\n",
              "T-shirt/top    6000\n",
              "Sneaker        6000\n",
              "Ankle boot     6000\n",
              "Dress          6000\n",
              "Sandal         6000\n",
              "Pullover       6000\n",
              "Name: Description, dtype: int64"
            ]
          },
          "metadata": {
            "tags": []
          },
          "execution_count": 7
        }
      ]
    },
    {
      "cell_type": "code",
      "metadata": {
        "colab": {
          "base_uri": "https://localhost:8080/"
        },
        "id": "6ZilTGNjhQ6X",
        "outputId": "7efae036-a186-4234-fd45-bbfdebcb7d1c"
      },
      "source": [
        "# target variable\n",
        "y = fashion.iloc[:, 0]\n",
        "y.head()\n",
        "# code target variable (y) to categorical\n",
        "y_cat = to_categorical(y, num_classes=10)\n",
        "y_cat.shape"
      ],
      "execution_count": 8,
      "outputs": [
        {
          "output_type": "execute_result",
          "data": {
            "text/plain": [
              "(60000, 10)"
            ]
          },
          "metadata": {
            "tags": []
          },
          "execution_count": 8
        }
      ]
    },
    {
      "source": [
        "Transforming data"
      ],
      "cell_type": "markdown",
      "metadata": {}
    },
    {
      "cell_type": "code",
      "metadata": {
        "colab": {
          "base_uri": "https://localhost:8080/"
        },
        "id": "BbBhZk3AhUqL",
        "outputId": "c895c7c4-8f32-4848-d381-ee00c8439cd9"
      },
      "source": [
        "X_train = np.array(fashion.iloc[:, 1:]).reshape(\n",
        "    fashion.shape[0], 28, 28, 1).astype('float32')\n",
        "print('Training data shape', X_train.shape)\n",
        "# Training data shape(60000, 28, 28, 1)\n",
        "\n",
        "# normalize the data (min_max)\n",
        "X_train = X_train / 255"
      ],
      "execution_count": 9,
      "outputs": [
        {
          "output_type": "stream",
          "text": [
            "Training data shape (60000, 28, 28, 1)\n"
          ],
          "name": "stdout"
        }
      ]
    },
    {
      "source": [
        "Creating CNN model"
      ],
      "cell_type": "markdown",
      "metadata": {}
    },
    {
      "cell_type": "code",
      "metadata": {
        "colab": {
          "base_uri": "https://localhost:8080/"
        },
        "id": "1L2TSi03BUR4",
        "outputId": "976890ae-cf81-45dc-8fb4-2316d0a035b7"
      },
      "source": [
        " #initilaize and compile model\n",
        "\n",
        "model = Sequential()\n",
        "\n",
        "# Add a 2D convolution layer with 64 units to the model\n",
        "model.add(Conv2D(filters=64, kernel_size=2, padding='same',\n",
        "                 activation='relu', input_shape=(28, 28, 1)))\n",
        "# Add a max pooling operation for spatial data\n",
        "model.add(MaxPooling2D(pool_size=2))\n",
        "\n",
        "# add 2 more 2D convolutional networks, with 32 layers\n",
        "# after add pooling\n",
        "for i in range(2):\n",
        "    model.add(Conv2D(\n",
        "        filters=32, kernel_size=2, padding='same', activation='relu'))\n",
        "    model.add(tf.keras.layers.MaxPooling2D(pool_size=2))\n",
        "\n",
        "# flatten layers to pass to Dense layer\n",
        "model.add(tf.keras.layers.Flatten())\n",
        "\n",
        "# add 2 dense layers with 150 units\n",
        "for i in range(2):\n",
        "    model.add(Dense(150, activation='relu'))\n",
        "    model.add(Dropout(0.2))\n",
        "\n",
        "# Add a softmax layer with 10 output units:\n",
        "model.add(tf.keras.layers.Dense(10, activation='softmax'))\n",
        "\n",
        "model.summary()\n",
        "\n",
        "model.compile(loss='categorical_crossentropy',\n",
        "              optimizer='adam',\n",
        "              metrics=['accuracy'])\n",
        "\n",
        "\n"
      ],
      "execution_count": 10,
      "outputs": [
        {
          "output_type": "stream",
          "text": [
            "Model: \"sequential\"\n",
            "_________________________________________________________________\n",
            "Layer (type)                 Output Shape              Param #   \n",
            "=================================================================\n",
            "conv2d (Conv2D)              (None, 28, 28, 64)        320       \n",
            "_________________________________________________________________\n",
            "max_pooling2d (MaxPooling2D) (None, 14, 14, 64)        0         \n",
            "_________________________________________________________________\n",
            "conv2d_1 (Conv2D)            (None, 14, 14, 32)        8224      \n",
            "_________________________________________________________________\n",
            "max_pooling2d_1 (MaxPooling2 (None, 7, 7, 32)          0         \n",
            "_________________________________________________________________\n",
            "conv2d_2 (Conv2D)            (None, 7, 7, 32)          4128      \n",
            "_________________________________________________________________\n",
            "max_pooling2d_2 (MaxPooling2 (None, 3, 3, 32)          0         \n",
            "_________________________________________________________________\n",
            "flatten (Flatten)            (None, 288)               0         \n",
            "_________________________________________________________________\n",
            "dense (Dense)                (None, 150)               43350     \n",
            "_________________________________________________________________\n",
            "dropout (Dropout)            (None, 150)               0         \n",
            "_________________________________________________________________\n",
            "dense_1 (Dense)              (None, 150)               22650     \n",
            "_________________________________________________________________\n",
            "dropout_1 (Dropout)          (None, 150)               0         \n",
            "_________________________________________________________________\n",
            "dense_2 (Dense)              (None, 10)                1510      \n",
            "=================================================================\n",
            "Total params: 80,182\n",
            "Trainable params: 80,182\n",
            "Non-trainable params: 0\n",
            "_________________________________________________________________\n"
          ],
          "name": "stdout"
        }
      ]
    },
    {
      "cell_type": "code",
      "metadata": {
        "colab": {
          "base_uri": "https://localhost:8080/"
        },
        "id": "KJZv2ipchcR2",
        "outputId": "7dc9f868-8d7f-43d9-adcd-e8e89de6032d"
      },
      "source": [
        "# Feed input data and label data into the model and save it\n",
        "history = model.fit(X_train,\n",
        "                    y_cat,\n",
        "                    validation_split=0.30,\n",
        "                    epochs=250,\n",
        "                    batch_size=500)"
      ],
      "execution_count": 11,
      "outputs": [
        {
          "output_type": "stream",
          "text": [
            "Epoch 1/250\n",
            "84/84 [==============================] - 39s 463ms/step - loss: 1.1942 - accuracy: 0.5594 - val_loss: 0.6024 - val_accuracy: 0.7626\n",
            "Epoch 2/250\n",
            "84/84 [==============================] - 39s 462ms/step - loss: 0.5968 - accuracy: 0.7716 - val_loss: 0.4900 - val_accuracy: 0.8154\n",
            "Epoch 3/250\n",
            "84/84 [==============================] - 39s 462ms/step - loss: 0.4864 - accuracy: 0.8200 - val_loss: 0.4295 - val_accuracy: 0.8422\n",
            "Epoch 4/250\n",
            "84/84 [==============================] - 39s 463ms/step - loss: 0.4294 - accuracy: 0.8418 - val_loss: 0.3738 - val_accuracy: 0.8656\n",
            "Epoch 5/250\n",
            "84/84 [==============================] - 39s 464ms/step - loss: 0.3905 - accuracy: 0.8576 - val_loss: 0.3502 - val_accuracy: 0.8731\n",
            "Epoch 6/250\n",
            "84/84 [==============================] - 39s 470ms/step - loss: 0.3638 - accuracy: 0.8669 - val_loss: 0.3519 - val_accuracy: 0.8719\n",
            "Epoch 7/250\n",
            "84/84 [==============================] - 39s 463ms/step - loss: 0.3468 - accuracy: 0.8728 - val_loss: 0.3200 - val_accuracy: 0.8840\n",
            "Epoch 8/250\n",
            "84/84 [==============================] - 40s 474ms/step - loss: 0.3284 - accuracy: 0.8805 - val_loss: 0.3097 - val_accuracy: 0.8871\n",
            "Epoch 9/250\n",
            "84/84 [==============================] - 39s 469ms/step - loss: 0.3158 - accuracy: 0.8845 - val_loss: 0.3083 - val_accuracy: 0.8869\n",
            "Epoch 10/250\n",
            "84/84 [==============================] - 39s 464ms/step - loss: 0.3058 - accuracy: 0.8889 - val_loss: 0.3016 - val_accuracy: 0.8896\n",
            "Epoch 11/250\n",
            "84/84 [==============================] - 39s 465ms/step - loss: 0.2938 - accuracy: 0.8917 - val_loss: 0.2869 - val_accuracy: 0.8952\n",
            "Epoch 12/250\n",
            "84/84 [==============================] - 39s 465ms/step - loss: 0.2930 - accuracy: 0.8916 - val_loss: 0.2896 - val_accuracy: 0.8956\n",
            "Epoch 13/250\n",
            "84/84 [==============================] - 40s 470ms/step - loss: 0.2805 - accuracy: 0.8976 - val_loss: 0.2803 - val_accuracy: 0.8989\n",
            "Epoch 14/250\n",
            "84/84 [==============================] - 39s 463ms/step - loss: 0.2738 - accuracy: 0.8994 - val_loss: 0.2779 - val_accuracy: 0.9001\n",
            "Epoch 15/250\n",
            "84/84 [==============================] - 39s 465ms/step - loss: 0.2649 - accuracy: 0.9046 - val_loss: 0.2698 - val_accuracy: 0.9027\n",
            "Epoch 16/250\n",
            "84/84 [==============================] - 40s 472ms/step - loss: 0.2598 - accuracy: 0.9055 - val_loss: 0.2682 - val_accuracy: 0.9041\n",
            "Epoch 17/250\n",
            "84/84 [==============================] - 40s 478ms/step - loss: 0.2555 - accuracy: 0.9078 - val_loss: 0.2650 - val_accuracy: 0.9047\n",
            "Epoch 18/250\n",
            "84/84 [==============================] - 39s 463ms/step - loss: 0.2503 - accuracy: 0.9076 - val_loss: 0.2612 - val_accuracy: 0.9059\n",
            "Epoch 19/250\n",
            "84/84 [==============================] - 39s 464ms/step - loss: 0.2389 - accuracy: 0.9129 - val_loss: 0.2595 - val_accuracy: 0.9056\n",
            "Epoch 20/250\n",
            "84/84 [==============================] - 39s 465ms/step - loss: 0.2377 - accuracy: 0.9113 - val_loss: 0.2684 - val_accuracy: 0.9055\n",
            "Epoch 21/250\n",
            "84/84 [==============================] - 39s 470ms/step - loss: 0.2379 - accuracy: 0.9117 - val_loss: 0.2652 - val_accuracy: 0.9026\n",
            "Epoch 22/250\n",
            "84/84 [==============================] - 39s 463ms/step - loss: 0.2379 - accuracy: 0.9121 - val_loss: 0.2594 - val_accuracy: 0.9078\n",
            "Epoch 23/250\n",
            "84/84 [==============================] - 39s 463ms/step - loss: 0.2222 - accuracy: 0.9189 - val_loss: 0.2559 - val_accuracy: 0.9116\n",
            "Epoch 24/250\n",
            "84/84 [==============================] - 39s 467ms/step - loss: 0.2163 - accuracy: 0.9191 - val_loss: 0.2569 - val_accuracy: 0.9079\n",
            "Epoch 25/250\n",
            "84/84 [==============================] - 40s 478ms/step - loss: 0.2135 - accuracy: 0.9211 - val_loss: 0.2540 - val_accuracy: 0.9094\n",
            "Epoch 26/250\n",
            "84/84 [==============================] - 39s 463ms/step - loss: 0.2141 - accuracy: 0.9211 - val_loss: 0.2489 - val_accuracy: 0.9103\n",
            "Epoch 27/250\n",
            "84/84 [==============================] - 39s 463ms/step - loss: 0.2081 - accuracy: 0.9214 - val_loss: 0.2527 - val_accuracy: 0.9109\n",
            "Epoch 28/250\n",
            "84/84 [==============================] - 39s 463ms/step - loss: 0.2036 - accuracy: 0.9242 - val_loss: 0.2561 - val_accuracy: 0.9098\n",
            "Epoch 29/250\n",
            "84/84 [==============================] - 39s 467ms/step - loss: 0.2039 - accuracy: 0.9240 - val_loss: 0.2530 - val_accuracy: 0.9090\n",
            "Epoch 30/250\n",
            "84/84 [==============================] - 39s 462ms/step - loss: 0.1967 - accuracy: 0.9267 - val_loss: 0.2534 - val_accuracy: 0.9115\n",
            "Epoch 31/250\n",
            "84/84 [==============================] - 39s 463ms/step - loss: 0.1938 - accuracy: 0.9279 - val_loss: 0.2484 - val_accuracy: 0.9113\n",
            "Epoch 32/250\n",
            "84/84 [==============================] - 39s 467ms/step - loss: 0.1905 - accuracy: 0.9286 - val_loss: 0.2503 - val_accuracy: 0.9127\n",
            "Epoch 33/250\n",
            "84/84 [==============================] - 40s 480ms/step - loss: 0.1859 - accuracy: 0.9302 - val_loss: 0.2444 - val_accuracy: 0.9144\n",
            "Epoch 34/250\n",
            "84/84 [==============================] - 39s 463ms/step - loss: 0.1852 - accuracy: 0.9304 - val_loss: 0.2443 - val_accuracy: 0.9132\n",
            "Epoch 35/250\n",
            "84/84 [==============================] - 39s 463ms/step - loss: 0.1786 - accuracy: 0.9343 - val_loss: 0.2545 - val_accuracy: 0.9126\n",
            "Epoch 36/250\n",
            "84/84 [==============================] - 39s 463ms/step - loss: 0.1776 - accuracy: 0.9337 - val_loss: 0.2534 - val_accuracy: 0.9128\n",
            "Epoch 37/250\n",
            "84/84 [==============================] - 39s 467ms/step - loss: 0.1726 - accuracy: 0.9354 - val_loss: 0.2564 - val_accuracy: 0.9121\n",
            "Epoch 38/250\n",
            "84/84 [==============================] - 39s 463ms/step - loss: 0.1720 - accuracy: 0.9357 - val_loss: 0.2501 - val_accuracy: 0.9136\n",
            "Epoch 39/250\n",
            "84/84 [==============================] - 39s 462ms/step - loss: 0.1707 - accuracy: 0.9354 - val_loss: 0.2501 - val_accuracy: 0.9119\n",
            "Epoch 40/250\n",
            "84/84 [==============================] - 39s 464ms/step - loss: 0.1659 - accuracy: 0.9371 - val_loss: 0.2495 - val_accuracy: 0.9152\n",
            "Epoch 41/250\n",
            "84/84 [==============================] - 40s 482ms/step - loss: 0.1618 - accuracy: 0.9395 - val_loss: 0.2531 - val_accuracy: 0.9135\n",
            "Epoch 42/250\n",
            "84/84 [==============================] - 39s 462ms/step - loss: 0.1650 - accuracy: 0.9370 - val_loss: 0.2510 - val_accuracy: 0.9137\n",
            "Epoch 43/250\n",
            "84/84 [==============================] - 39s 463ms/step - loss: 0.1596 - accuracy: 0.9404 - val_loss: 0.2518 - val_accuracy: 0.9144\n",
            "Epoch 44/250\n",
            "84/84 [==============================] - 39s 467ms/step - loss: 0.1537 - accuracy: 0.9418 - val_loss: 0.2580 - val_accuracy: 0.9113\n",
            "Epoch 45/250\n",
            "84/84 [==============================] - 39s 465ms/step - loss: 0.1548 - accuracy: 0.9422 - val_loss: 0.2596 - val_accuracy: 0.9123\n",
            "Epoch 46/250\n",
            "84/84 [==============================] - 39s 463ms/step - loss: 0.1513 - accuracy: 0.9440 - val_loss: 0.2559 - val_accuracy: 0.9148\n",
            "Epoch 47/250\n",
            "84/84 [==============================] - 39s 464ms/step - loss: 0.1478 - accuracy: 0.9433 - val_loss: 0.2696 - val_accuracy: 0.9127\n",
            "Epoch 48/250\n",
            "84/84 [==============================] - 39s 463ms/step - loss: 0.1533 - accuracy: 0.9416 - val_loss: 0.2608 - val_accuracy: 0.9140\n",
            "Epoch 49/250\n",
            "84/84 [==============================] - 40s 480ms/step - loss: 0.1464 - accuracy: 0.9456 - val_loss: 0.2566 - val_accuracy: 0.9165\n",
            "Epoch 50/250\n",
            "84/84 [==============================] - 39s 467ms/step - loss: 0.1382 - accuracy: 0.9481 - val_loss: 0.2684 - val_accuracy: 0.9139\n",
            "Epoch 51/250\n",
            "84/84 [==============================] - 39s 464ms/step - loss: 0.1413 - accuracy: 0.9473 - val_loss: 0.2594 - val_accuracy: 0.9158\n",
            "Epoch 52/250\n",
            "84/84 [==============================] - 39s 469ms/step - loss: 0.1360 - accuracy: 0.9485 - val_loss: 0.2770 - val_accuracy: 0.9114\n",
            "Epoch 53/250\n",
            "84/84 [==============================] - 39s 463ms/step - loss: 0.1346 - accuracy: 0.9495 - val_loss: 0.2708 - val_accuracy: 0.9149\n",
            "Epoch 54/250\n",
            "84/84 [==============================] - 39s 462ms/step - loss: 0.1302 - accuracy: 0.9512 - val_loss: 0.2710 - val_accuracy: 0.9150\n",
            "Epoch 55/250\n",
            "84/84 [==============================] - 39s 464ms/step - loss: 0.1287 - accuracy: 0.9517 - val_loss: 0.2763 - val_accuracy: 0.9151\n",
            "Epoch 56/250\n",
            "84/84 [==============================] - 39s 464ms/step - loss: 0.1259 - accuracy: 0.9522 - val_loss: 0.2624 - val_accuracy: 0.9154\n",
            "Epoch 57/250\n",
            "84/84 [==============================] - 40s 472ms/step - loss: 0.1228 - accuracy: 0.9537 - val_loss: 0.2706 - val_accuracy: 0.9148\n",
            "Epoch 58/250\n",
            "84/84 [==============================] - 40s 471ms/step - loss: 0.1217 - accuracy: 0.9534 - val_loss: 0.2741 - val_accuracy: 0.9161\n",
            "Epoch 59/250\n",
            "84/84 [==============================] - 39s 464ms/step - loss: 0.1249 - accuracy: 0.9525 - val_loss: 0.2843 - val_accuracy: 0.9131\n",
            "Epoch 60/250\n",
            "84/84 [==============================] - 39s 469ms/step - loss: 0.1223 - accuracy: 0.9523 - val_loss: 0.2790 - val_accuracy: 0.9158\n",
            "Epoch 61/250\n",
            "84/84 [==============================] - 39s 464ms/step - loss: 0.1186 - accuracy: 0.9544 - val_loss: 0.2847 - val_accuracy: 0.9142\n",
            "Epoch 62/250\n",
            "84/84 [==============================] - 39s 465ms/step - loss: 0.1183 - accuracy: 0.9543 - val_loss: 0.2766 - val_accuracy: 0.9168\n",
            "Epoch 63/250\n",
            "84/84 [==============================] - 39s 464ms/step - loss: 0.1146 - accuracy: 0.9565 - val_loss: 0.2796 - val_accuracy: 0.9151\n",
            "Epoch 64/250\n",
            "84/84 [==============================] - 39s 464ms/step - loss: 0.1099 - accuracy: 0.9585 - val_loss: 0.2800 - val_accuracy: 0.9177\n",
            "Epoch 65/250\n",
            "84/84 [==============================] - 39s 467ms/step - loss: 0.1098 - accuracy: 0.9586 - val_loss: 0.2845 - val_accuracy: 0.9144\n",
            "Epoch 66/250\n",
            "84/84 [==============================] - 40s 480ms/step - loss: 0.1074 - accuracy: 0.9595 - val_loss: 0.2897 - val_accuracy: 0.9151\n",
            "Epoch 67/250\n",
            "84/84 [==============================] - 39s 467ms/step - loss: 0.1097 - accuracy: 0.9572 - val_loss: 0.3031 - val_accuracy: 0.9113\n",
            "Epoch 68/250\n",
            "84/84 [==============================] - 40s 473ms/step - loss: 0.1081 - accuracy: 0.9599 - val_loss: 0.2965 - val_accuracy: 0.9164\n",
            "Epoch 69/250\n",
            "84/84 [==============================] - 39s 464ms/step - loss: 0.1049 - accuracy: 0.9611 - val_loss: 0.3037 - val_accuracy: 0.9149\n",
            "Epoch 70/250\n",
            "84/84 [==============================] - 39s 464ms/step - loss: 0.1045 - accuracy: 0.9607 - val_loss: 0.2997 - val_accuracy: 0.9127\n",
            "Epoch 71/250\n",
            "84/84 [==============================] - 39s 465ms/step - loss: 0.1001 - accuracy: 0.9631 - val_loss: 0.3028 - val_accuracy: 0.9162\n",
            "Epoch 72/250\n",
            "84/84 [==============================] - 39s 463ms/step - loss: 0.0982 - accuracy: 0.9632 - val_loss: 0.2966 - val_accuracy: 0.9169\n",
            "Epoch 73/250\n",
            "84/84 [==============================] - 39s 463ms/step - loss: 0.0948 - accuracy: 0.9642 - val_loss: 0.2989 - val_accuracy: 0.9170\n",
            "Epoch 74/250\n",
            "84/84 [==============================] - 41s 486ms/step - loss: 0.0948 - accuracy: 0.9639 - val_loss: 0.3086 - val_accuracy: 0.9173\n",
            "Epoch 75/250\n",
            "84/84 [==============================] - 39s 462ms/step - loss: 0.0946 - accuracy: 0.9641 - val_loss: 0.3297 - val_accuracy: 0.9078\n",
            "Epoch 76/250\n",
            "84/84 [==============================] - 40s 473ms/step - loss: 0.0966 - accuracy: 0.9634 - val_loss: 0.3027 - val_accuracy: 0.9179\n",
            "Epoch 77/250\n",
            "84/84 [==============================] - 39s 462ms/step - loss: 0.0897 - accuracy: 0.9655 - val_loss: 0.3024 - val_accuracy: 0.9167\n",
            "Epoch 78/250\n",
            "84/84 [==============================] - 40s 470ms/step - loss: 0.0873 - accuracy: 0.9667 - val_loss: 0.3240 - val_accuracy: 0.9153\n",
            "Epoch 79/250\n",
            "84/84 [==============================] - 40s 475ms/step - loss: 0.0907 - accuracy: 0.9661 - val_loss: 0.3206 - val_accuracy: 0.9171\n",
            "Epoch 80/250\n",
            "84/84 [==============================] - 39s 464ms/step - loss: 0.0856 - accuracy: 0.9670 - val_loss: 0.3296 - val_accuracy: 0.9147\n",
            "Epoch 81/250\n",
            "84/84 [==============================] - 39s 463ms/step - loss: 0.0856 - accuracy: 0.9670 - val_loss: 0.3255 - val_accuracy: 0.9169\n",
            "Epoch 82/250\n",
            "84/84 [==============================] - 41s 486ms/step - loss: 0.0911 - accuracy: 0.9653 - val_loss: 0.3233 - val_accuracy: 0.9161\n",
            "Epoch 83/250\n",
            "84/84 [==============================] - 40s 471ms/step - loss: 0.0892 - accuracy: 0.9659 - val_loss: 0.3318 - val_accuracy: 0.9144\n",
            "Epoch 84/250\n",
            "84/84 [==============================] - 39s 463ms/step - loss: 0.0829 - accuracy: 0.9675 - val_loss: 0.3263 - val_accuracy: 0.9164\n",
            "Epoch 85/250\n",
            "84/84 [==============================] - 39s 465ms/step - loss: 0.0871 - accuracy: 0.9671 - val_loss: 0.3239 - val_accuracy: 0.9155\n",
            "Epoch 86/250\n",
            "84/84 [==============================] - 39s 463ms/step - loss: 0.0801 - accuracy: 0.9702 - val_loss: 0.3280 - val_accuracy: 0.9164\n",
            "Epoch 87/250\n",
            "84/84 [==============================] - 39s 463ms/step - loss: 0.0809 - accuracy: 0.9690 - val_loss: 0.3401 - val_accuracy: 0.9142\n",
            "Epoch 88/250\n",
            "84/84 [==============================] - 39s 463ms/step - loss: 0.0806 - accuracy: 0.9692 - val_loss: 0.3578 - val_accuracy: 0.9138\n",
            "Epoch 89/250\n",
            "84/84 [==============================] - 39s 463ms/step - loss: 0.0802 - accuracy: 0.9700 - val_loss: 0.3416 - val_accuracy: 0.9145\n",
            "Epoch 90/250\n",
            "84/84 [==============================] - 40s 481ms/step - loss: 0.0742 - accuracy: 0.9720 - val_loss: 0.3445 - val_accuracy: 0.9148\n",
            "Epoch 91/250\n",
            "84/84 [==============================] - 40s 471ms/step - loss: 0.0725 - accuracy: 0.9730 - val_loss: 0.3450 - val_accuracy: 0.9154\n",
            "Epoch 92/250\n",
            "84/84 [==============================] - 39s 461ms/step - loss: 0.0753 - accuracy: 0.9716 - val_loss: 0.3428 - val_accuracy: 0.9167\n",
            "Epoch 93/250\n",
            "84/84 [==============================] - 39s 463ms/step - loss: 0.0724 - accuracy: 0.9725 - val_loss: 0.3527 - val_accuracy: 0.9154\n",
            "Epoch 94/250\n",
            "84/84 [==============================] - 39s 464ms/step - loss: 0.0725 - accuracy: 0.9721 - val_loss: 0.3693 - val_accuracy: 0.9166\n",
            "Epoch 95/250\n",
            "84/84 [==============================] - 39s 464ms/step - loss: 0.0738 - accuracy: 0.9724 - val_loss: 0.3636 - val_accuracy: 0.9164\n",
            "Epoch 96/250\n",
            "84/84 [==============================] - 39s 462ms/step - loss: 0.0718 - accuracy: 0.9714 - val_loss: 0.3550 - val_accuracy: 0.9154\n",
            "Epoch 97/250\n",
            "84/84 [==============================] - 39s 462ms/step - loss: 0.0691 - accuracy: 0.9737 - val_loss: 0.3653 - val_accuracy: 0.9146\n",
            "Epoch 98/250\n",
            "84/84 [==============================] - 40s 478ms/step - loss: 0.0726 - accuracy: 0.9722 - val_loss: 0.3554 - val_accuracy: 0.9167\n",
            "Epoch 99/250\n",
            "84/84 [==============================] - 40s 473ms/step - loss: 0.0698 - accuracy: 0.9731 - val_loss: 0.3589 - val_accuracy: 0.9121\n",
            "Epoch 100/250\n",
            "84/84 [==============================] - 39s 463ms/step - loss: 0.0714 - accuracy: 0.9730 - val_loss: 0.3685 - val_accuracy: 0.9167\n",
            "Epoch 101/250\n",
            "84/84 [==============================] - 39s 464ms/step - loss: 0.0684 - accuracy: 0.9745 - val_loss: 0.3685 - val_accuracy: 0.9167\n",
            "Epoch 102/250\n",
            "84/84 [==============================] - 39s 463ms/step - loss: 0.0660 - accuracy: 0.9746 - val_loss: 0.3694 - val_accuracy: 0.9157\n",
            "Epoch 103/250\n",
            "84/84 [==============================] - 39s 461ms/step - loss: 0.0662 - accuracy: 0.9741 - val_loss: 0.3686 - val_accuracy: 0.9134\n",
            "Epoch 104/250\n",
            "84/84 [==============================] - 39s 463ms/step - loss: 0.0655 - accuracy: 0.9756 - val_loss: 0.3684 - val_accuracy: 0.9161\n",
            "Epoch 105/250\n",
            "84/84 [==============================] - 39s 464ms/step - loss: 0.0622 - accuracy: 0.9764 - val_loss: 0.3993 - val_accuracy: 0.9140\n",
            "Epoch 106/250\n",
            "84/84 [==============================] - 40s 471ms/step - loss: 0.0657 - accuracy: 0.9754 - val_loss: 0.3643 - val_accuracy: 0.9159\n",
            "Epoch 107/250\n",
            "84/84 [==============================] - 41s 493ms/step - loss: 0.0645 - accuracy: 0.9755 - val_loss: 0.3991 - val_accuracy: 0.9173\n",
            "Epoch 108/250\n",
            "84/84 [==============================] - 39s 461ms/step - loss: 0.0663 - accuracy: 0.9752 - val_loss: 0.3900 - val_accuracy: 0.9140\n",
            "Epoch 109/250\n",
            "84/84 [==============================] - 39s 461ms/step - loss: 0.0619 - accuracy: 0.9762 - val_loss: 0.4029 - val_accuracy: 0.9161\n",
            "Epoch 110/250\n",
            "84/84 [==============================] - 39s 462ms/step - loss: 0.0671 - accuracy: 0.9746 - val_loss: 0.3896 - val_accuracy: 0.9151\n",
            "Epoch 111/250\n",
            "84/84 [==============================] - 39s 462ms/step - loss: 0.0639 - accuracy: 0.9755 - val_loss: 0.4121 - val_accuracy: 0.9170\n",
            "Epoch 112/250\n",
            "84/84 [==============================] - 39s 461ms/step - loss: 0.0599 - accuracy: 0.9779 - val_loss: 0.4026 - val_accuracy: 0.9153\n",
            "Epoch 113/250\n",
            "84/84 [==============================] - 39s 461ms/step - loss: 0.0603 - accuracy: 0.9778 - val_loss: 0.4079 - val_accuracy: 0.9139\n",
            "Epoch 114/250\n",
            "84/84 [==============================] - 39s 461ms/step - loss: 0.0606 - accuracy: 0.9771 - val_loss: 0.4180 - val_accuracy: 0.9157\n",
            "Epoch 115/250\n",
            "84/84 [==============================] - 41s 491ms/step - loss: 0.0614 - accuracy: 0.9767 - val_loss: 0.4119 - val_accuracy: 0.9164\n",
            "Epoch 116/250\n",
            "84/84 [==============================] - 39s 459ms/step - loss: 0.0595 - accuracy: 0.9779 - val_loss: 0.4064 - val_accuracy: 0.9163\n",
            "Epoch 117/250\n",
            "84/84 [==============================] - 39s 459ms/step - loss: 0.0590 - accuracy: 0.9782 - val_loss: 0.4252 - val_accuracy: 0.9164\n",
            "Epoch 118/250\n",
            "84/84 [==============================] - 39s 460ms/step - loss: 0.0558 - accuracy: 0.9790 - val_loss: 0.4057 - val_accuracy: 0.9168\n",
            "Epoch 119/250\n",
            "84/84 [==============================] - 39s 461ms/step - loss: 0.0532 - accuracy: 0.9805 - val_loss: 0.4219 - val_accuracy: 0.9139\n",
            "Epoch 120/250\n",
            "84/84 [==============================] - 39s 461ms/step - loss: 0.0561 - accuracy: 0.9788 - val_loss: 0.3952 - val_accuracy: 0.9145\n",
            "Epoch 121/250\n",
            "84/84 [==============================] - 39s 461ms/step - loss: 0.0581 - accuracy: 0.9783 - val_loss: 0.4340 - val_accuracy: 0.9157\n",
            "Epoch 122/250\n",
            "84/84 [==============================] - 39s 460ms/step - loss: 0.0549 - accuracy: 0.9786 - val_loss: 0.3921 - val_accuracy: 0.9144\n",
            "Epoch 123/250\n",
            "84/84 [==============================] - 40s 480ms/step - loss: 0.0561 - accuracy: 0.9793 - val_loss: 0.4320 - val_accuracy: 0.9128\n",
            "Epoch 124/250\n",
            "84/84 [==============================] - 39s 460ms/step - loss: 0.0522 - accuracy: 0.9806 - val_loss: 0.4067 - val_accuracy: 0.9158\n",
            "Epoch 125/250\n",
            "84/84 [==============================] - 39s 465ms/step - loss: 0.0565 - accuracy: 0.9791 - val_loss: 0.4080 - val_accuracy: 0.9130\n",
            "Epoch 126/250\n",
            "84/84 [==============================] - 39s 459ms/step - loss: 0.0605 - accuracy: 0.9768 - val_loss: 0.4406 - val_accuracy: 0.9141\n",
            "Epoch 127/250\n",
            "84/84 [==============================] - 39s 460ms/step - loss: 0.0564 - accuracy: 0.9784 - val_loss: 0.4338 - val_accuracy: 0.9147\n",
            "Epoch 128/250\n",
            "84/84 [==============================] - 39s 459ms/step - loss: 0.0517 - accuracy: 0.9807 - val_loss: 0.4484 - val_accuracy: 0.9171\n",
            "Epoch 129/250\n",
            "84/84 [==============================] - 38s 457ms/step - loss: 0.0491 - accuracy: 0.9815 - val_loss: 0.4472 - val_accuracy: 0.9147\n",
            "Epoch 130/250\n",
            "84/84 [==============================] - 39s 460ms/step - loss: 0.0505 - accuracy: 0.9804 - val_loss: 0.4417 - val_accuracy: 0.9143\n",
            "Epoch 131/250\n",
            "84/84 [==============================] - 39s 462ms/step - loss: 0.0511 - accuracy: 0.9804 - val_loss: 0.4305 - val_accuracy: 0.9138\n",
            "Epoch 132/250\n",
            "84/84 [==============================] - 39s 459ms/step - loss: 0.0460 - accuracy: 0.9825 - val_loss: 0.4634 - val_accuracy: 0.9176\n",
            "Epoch 133/250\n",
            "84/84 [==============================] - 39s 459ms/step - loss: 0.0490 - accuracy: 0.9820 - val_loss: 0.4585 - val_accuracy: 0.9156\n",
            "Epoch 134/250\n",
            "84/84 [==============================] - 39s 459ms/step - loss: 0.0507 - accuracy: 0.9807 - val_loss: 0.4538 - val_accuracy: 0.9173\n",
            "Epoch 135/250\n",
            "84/84 [==============================] - 39s 460ms/step - loss: 0.0506 - accuracy: 0.9814 - val_loss: 0.4571 - val_accuracy: 0.9138\n",
            "Epoch 136/250\n",
            "84/84 [==============================] - 39s 461ms/step - loss: 0.0487 - accuracy: 0.9815 - val_loss: 0.4289 - val_accuracy: 0.9124\n",
            "Epoch 137/250\n",
            "84/84 [==============================] - 39s 460ms/step - loss: 0.0513 - accuracy: 0.9808 - val_loss: 0.4648 - val_accuracy: 0.9154\n",
            "Epoch 138/250\n",
            "84/84 [==============================] - 39s 462ms/step - loss: 0.0501 - accuracy: 0.9815 - val_loss: 0.4626 - val_accuracy: 0.9138\n",
            "Epoch 139/250\n",
            "84/84 [==============================] - 39s 465ms/step - loss: 0.0471 - accuracy: 0.9828 - val_loss: 0.4618 - val_accuracy: 0.9118\n",
            "Epoch 140/250\n",
            "84/84 [==============================] - 39s 468ms/step - loss: 0.0471 - accuracy: 0.9821 - val_loss: 0.4743 - val_accuracy: 0.9138\n",
            "Epoch 141/250\n",
            "84/84 [==============================] - 39s 462ms/step - loss: 0.0498 - accuracy: 0.9816 - val_loss: 0.4472 - val_accuracy: 0.9155\n",
            "Epoch 142/250\n",
            "84/84 [==============================] - 39s 461ms/step - loss: 0.0453 - accuracy: 0.9830 - val_loss: 0.4662 - val_accuracy: 0.9116\n",
            "Epoch 143/250\n",
            "84/84 [==============================] - 39s 461ms/step - loss: 0.0466 - accuracy: 0.9826 - val_loss: 0.4615 - val_accuracy: 0.9133\n",
            "Epoch 144/250\n",
            "84/84 [==============================] - 39s 460ms/step - loss: 0.0478 - accuracy: 0.9825 - val_loss: 0.4881 - val_accuracy: 0.9165\n",
            "Epoch 145/250\n",
            "84/84 [==============================] - 39s 462ms/step - loss: 0.0445 - accuracy: 0.9839 - val_loss: 0.4959 - val_accuracy: 0.9154\n",
            "Epoch 146/250\n",
            "84/84 [==============================] - 39s 462ms/step - loss: 0.0438 - accuracy: 0.9833 - val_loss: 0.4819 - val_accuracy: 0.9163\n",
            "Epoch 147/250\n",
            "84/84 [==============================] - 39s 460ms/step - loss: 0.0421 - accuracy: 0.9845 - val_loss: 0.4573 - val_accuracy: 0.9157\n",
            "Epoch 148/250\n",
            "84/84 [==============================] - 39s 469ms/step - loss: 0.0446 - accuracy: 0.9825 - val_loss: 0.4732 - val_accuracy: 0.9175\n",
            "Epoch 149/250\n",
            "84/84 [==============================] - 40s 478ms/step - loss: 0.0452 - accuracy: 0.9827 - val_loss: 0.4770 - val_accuracy: 0.9161\n",
            "Epoch 150/250\n",
            "84/84 [==============================] - 39s 459ms/step - loss: 0.0439 - accuracy: 0.9837 - val_loss: 0.4920 - val_accuracy: 0.9133\n",
            "Epoch 151/250\n",
            "84/84 [==============================] - 39s 459ms/step - loss: 0.0444 - accuracy: 0.9837 - val_loss: 0.4973 - val_accuracy: 0.9143\n",
            "Epoch 152/250\n",
            "84/84 [==============================] - 39s 459ms/step - loss: 0.0426 - accuracy: 0.9833 - val_loss: 0.4815 - val_accuracy: 0.9153\n",
            "Epoch 153/250\n",
            "84/84 [==============================] - 39s 459ms/step - loss: 0.0487 - accuracy: 0.9818 - val_loss: 0.4945 - val_accuracy: 0.9143\n",
            "Epoch 154/250\n",
            "84/84 [==============================] - 39s 463ms/step - loss: 0.0494 - accuracy: 0.9817 - val_loss: 0.4693 - val_accuracy: 0.9143\n",
            "Epoch 155/250\n",
            "84/84 [==============================] - 39s 458ms/step - loss: 0.0454 - accuracy: 0.9828 - val_loss: 0.4984 - val_accuracy: 0.9166\n",
            "Epoch 156/250\n",
            "84/84 [==============================] - 39s 469ms/step - loss: 0.0457 - accuracy: 0.9827 - val_loss: 0.4831 - val_accuracy: 0.9150\n",
            "Epoch 157/250\n",
            "84/84 [==============================] - 39s 459ms/step - loss: 0.0378 - accuracy: 0.9860 - val_loss: 0.5342 - val_accuracy: 0.9122\n",
            "Epoch 158/250\n",
            "84/84 [==============================] - 38s 458ms/step - loss: 0.0423 - accuracy: 0.9834 - val_loss: 0.5090 - val_accuracy: 0.9149\n",
            "Epoch 159/250\n",
            "84/84 [==============================] - 39s 459ms/step - loss: 0.0425 - accuracy: 0.9847 - val_loss: 0.4964 - val_accuracy: 0.9131\n",
            "Epoch 160/250\n",
            "84/84 [==============================] - 39s 458ms/step - loss: 0.0404 - accuracy: 0.9845 - val_loss: 0.5105 - val_accuracy: 0.9132\n",
            "Epoch 161/250\n",
            "84/84 [==============================] - 39s 459ms/step - loss: 0.0457 - accuracy: 0.9837 - val_loss: 0.4922 - val_accuracy: 0.9137\n",
            "Epoch 162/250\n",
            "84/84 [==============================] - 39s 463ms/step - loss: 0.0434 - accuracy: 0.9835 - val_loss: 0.5046 - val_accuracy: 0.9151\n",
            "Epoch 163/250\n",
            "84/84 [==============================] - 38s 458ms/step - loss: 0.0430 - accuracy: 0.9837 - val_loss: 0.5045 - val_accuracy: 0.9131\n",
            "Epoch 164/250\n",
            "84/84 [==============================] - 39s 463ms/step - loss: 0.0413 - accuracy: 0.9847 - val_loss: 0.4923 - val_accuracy: 0.9134\n",
            "Epoch 165/250\n",
            "84/84 [==============================] - 39s 461ms/step - loss: 0.0355 - accuracy: 0.9868 - val_loss: 0.4991 - val_accuracy: 0.9141\n",
            "Epoch 166/250\n",
            "84/84 [==============================] - 39s 460ms/step - loss: 0.0370 - accuracy: 0.9870 - val_loss: 0.5059 - val_accuracy: 0.9147\n",
            "Epoch 167/250\n",
            "84/84 [==============================] - 39s 459ms/step - loss: 0.0372 - accuracy: 0.9865 - val_loss: 0.5427 - val_accuracy: 0.9123\n",
            "Epoch 168/250\n",
            "84/84 [==============================] - 39s 459ms/step - loss: 0.0399 - accuracy: 0.9853 - val_loss: 0.5071 - val_accuracy: 0.9143\n",
            "Epoch 169/250\n",
            "84/84 [==============================] - 39s 460ms/step - loss: 0.0407 - accuracy: 0.9844 - val_loss: 0.5081 - val_accuracy: 0.9144\n",
            "Epoch 170/250\n",
            "84/84 [==============================] - 39s 465ms/step - loss: 0.0431 - accuracy: 0.9832 - val_loss: 0.5099 - val_accuracy: 0.9123\n",
            "Epoch 171/250\n",
            "84/84 [==============================] - 38s 458ms/step - loss: 0.0509 - accuracy: 0.9810 - val_loss: 0.5038 - val_accuracy: 0.9136\n",
            "Epoch 172/250\n",
            "84/84 [==============================] - 39s 460ms/step - loss: 0.0393 - accuracy: 0.9854 - val_loss: 0.5115 - val_accuracy: 0.9159\n",
            "Epoch 173/250\n",
            "84/84 [==============================] - 39s 468ms/step - loss: 0.0415 - accuracy: 0.9851 - val_loss: 0.4967 - val_accuracy: 0.9138\n",
            "Epoch 174/250\n",
            "84/84 [==============================] - 38s 457ms/step - loss: 0.0380 - accuracy: 0.9861 - val_loss: 0.5133 - val_accuracy: 0.9144\n",
            "Epoch 175/250\n",
            "84/84 [==============================] - 39s 460ms/step - loss: 0.0381 - accuracy: 0.9856 - val_loss: 0.5129 - val_accuracy: 0.9139\n",
            "Epoch 176/250\n",
            "84/84 [==============================] - 39s 459ms/step - loss: 0.0394 - accuracy: 0.9858 - val_loss: 0.5166 - val_accuracy: 0.9149\n",
            "Epoch 177/250\n",
            "84/84 [==============================] - 38s 458ms/step - loss: 0.0370 - accuracy: 0.9863 - val_loss: 0.5139 - val_accuracy: 0.9136\n",
            "Epoch 178/250\n",
            "84/84 [==============================] - 39s 463ms/step - loss: 0.0368 - accuracy: 0.9864 - val_loss: 0.5251 - val_accuracy: 0.9152\n",
            "Epoch 179/250\n",
            "84/84 [==============================] - 39s 459ms/step - loss: 0.0353 - accuracy: 0.9873 - val_loss: 0.5227 - val_accuracy: 0.9147\n",
            "Epoch 180/250\n",
            "84/84 [==============================] - 38s 458ms/step - loss: 0.0360 - accuracy: 0.9872 - val_loss: 0.5146 - val_accuracy: 0.9135\n",
            "Epoch 181/250\n",
            "84/84 [==============================] - 40s 472ms/step - loss: 0.0385 - accuracy: 0.9854 - val_loss: 0.5087 - val_accuracy: 0.9114\n",
            "Epoch 182/250\n",
            "84/84 [==============================] - 39s 460ms/step - loss: 0.0391 - accuracy: 0.9862 - val_loss: 0.5300 - val_accuracy: 0.9139\n",
            "Epoch 183/250\n",
            "84/84 [==============================] - 39s 461ms/step - loss: 0.0368 - accuracy: 0.9861 - val_loss: 0.5564 - val_accuracy: 0.9137\n",
            "Epoch 184/250\n",
            "84/84 [==============================] - 39s 462ms/step - loss: 0.0335 - accuracy: 0.9876 - val_loss: 0.5598 - val_accuracy: 0.9127\n",
            "Epoch 185/250\n",
            "84/84 [==============================] - 39s 460ms/step - loss: 0.0411 - accuracy: 0.9851 - val_loss: 0.5276 - val_accuracy: 0.9128\n",
            "Epoch 186/250\n",
            "84/84 [==============================] - 39s 465ms/step - loss: 0.0389 - accuracy: 0.9859 - val_loss: 0.5585 - val_accuracy: 0.9121\n",
            "Epoch 187/250\n",
            "84/84 [==============================] - 39s 460ms/step - loss: 0.0395 - accuracy: 0.9855 - val_loss: 0.5153 - val_accuracy: 0.9141\n",
            "Epoch 188/250\n",
            "84/84 [==============================] - 39s 461ms/step - loss: 0.0363 - accuracy: 0.9871 - val_loss: 0.5462 - val_accuracy: 0.9134\n",
            "Epoch 189/250\n",
            "84/84 [==============================] - 40s 470ms/step - loss: 0.0375 - accuracy: 0.9862 - val_loss: 0.5316 - val_accuracy: 0.9108\n",
            "Epoch 190/250\n",
            "84/84 [==============================] - 39s 460ms/step - loss: 0.0366 - accuracy: 0.9869 - val_loss: 0.5221 - val_accuracy: 0.9168\n",
            "Epoch 191/250\n",
            "84/84 [==============================] - 39s 459ms/step - loss: 0.0323 - accuracy: 0.9878 - val_loss: 0.5507 - val_accuracy: 0.9123\n",
            "Epoch 192/250\n",
            "84/84 [==============================] - 39s 459ms/step - loss: 0.0367 - accuracy: 0.9860 - val_loss: 0.5273 - val_accuracy: 0.9133\n",
            "Epoch 193/250\n",
            "84/84 [==============================] - 39s 459ms/step - loss: 0.0365 - accuracy: 0.9867 - val_loss: 0.5550 - val_accuracy: 0.9161\n",
            "Epoch 194/250\n",
            "84/84 [==============================] - 39s 462ms/step - loss: 0.0336 - accuracy: 0.9875 - val_loss: 0.5519 - val_accuracy: 0.9166\n",
            "Epoch 195/250\n",
            "84/84 [==============================] - 39s 460ms/step - loss: 0.0365 - accuracy: 0.9862 - val_loss: 0.5370 - val_accuracy: 0.9169\n",
            "Epoch 196/250\n",
            "84/84 [==============================] - 39s 462ms/step - loss: 0.0345 - accuracy: 0.9873 - val_loss: 0.5817 - val_accuracy: 0.9129\n",
            "Epoch 197/250\n",
            "84/84 [==============================] - 39s 465ms/step - loss: 0.0355 - accuracy: 0.9871 - val_loss: 0.5639 - val_accuracy: 0.9136\n",
            "Epoch 198/250\n",
            "84/84 [==============================] - 39s 465ms/step - loss: 0.0321 - accuracy: 0.9880 - val_loss: 0.5720 - val_accuracy: 0.9158\n",
            "Epoch 199/250\n",
            "84/84 [==============================] - 39s 459ms/step - loss: 0.0349 - accuracy: 0.9880 - val_loss: 0.5565 - val_accuracy: 0.9133\n",
            "Epoch 200/250\n",
            "84/84 [==============================] - 39s 459ms/step - loss: 0.0363 - accuracy: 0.9863 - val_loss: 0.5511 - val_accuracy: 0.9146\n",
            "Epoch 201/250\n",
            "84/84 [==============================] - 39s 462ms/step - loss: 0.0392 - accuracy: 0.9855 - val_loss: 0.5460 - val_accuracy: 0.9151\n",
            "Epoch 202/250\n",
            "84/84 [==============================] - 39s 464ms/step - loss: 0.0386 - accuracy: 0.9863 - val_loss: 0.5696 - val_accuracy: 0.9134\n",
            "Epoch 203/250\n",
            "84/84 [==============================] - 39s 460ms/step - loss: 0.0352 - accuracy: 0.9869 - val_loss: 0.5874 - val_accuracy: 0.9136\n",
            "Epoch 204/250\n",
            "84/84 [==============================] - 39s 461ms/step - loss: 0.0343 - accuracy: 0.9872 - val_loss: 0.5443 - val_accuracy: 0.9144\n",
            "Epoch 205/250\n",
            "84/84 [==============================] - 39s 461ms/step - loss: 0.0335 - accuracy: 0.9881 - val_loss: 0.5984 - val_accuracy: 0.9144\n",
            "Epoch 206/250\n",
            "84/84 [==============================] - 40s 471ms/step - loss: 0.0316 - accuracy: 0.9881 - val_loss: 0.5647 - val_accuracy: 0.9131\n",
            "Epoch 207/250\n",
            "84/84 [==============================] - 39s 459ms/step - loss: 0.0372 - accuracy: 0.9865 - val_loss: 0.5729 - val_accuracy: 0.9134\n",
            "Epoch 208/250\n",
            "84/84 [==============================] - 39s 462ms/step - loss: 0.0342 - accuracy: 0.9878 - val_loss: 0.5708 - val_accuracy: 0.9139\n",
            "Epoch 209/250\n",
            "84/84 [==============================] - 39s 467ms/step - loss: 0.0388 - accuracy: 0.9865 - val_loss: 0.5466 - val_accuracy: 0.9141\n",
            "Epoch 210/250\n",
            "84/84 [==============================] - 39s 460ms/step - loss: 0.0399 - accuracy: 0.9853 - val_loss: 0.5461 - val_accuracy: 0.9148\n",
            "Epoch 211/250\n",
            "84/84 [==============================] - 39s 460ms/step - loss: 0.0306 - accuracy: 0.9894 - val_loss: 0.5679 - val_accuracy: 0.9152\n",
            "Epoch 212/250\n",
            "84/84 [==============================] - 39s 459ms/step - loss: 0.0326 - accuracy: 0.9888 - val_loss: 0.5755 - val_accuracy: 0.9147\n",
            "Epoch 213/250\n",
            "84/84 [==============================] - 38s 458ms/step - loss: 0.0322 - accuracy: 0.9886 - val_loss: 0.5876 - val_accuracy: 0.9155\n",
            "Epoch 214/250\n",
            "84/84 [==============================] - 39s 469ms/step - loss: 0.0282 - accuracy: 0.9896 - val_loss: 0.5712 - val_accuracy: 0.9138\n",
            "Epoch 215/250\n",
            "84/84 [==============================] - 39s 460ms/step - loss: 0.0317 - accuracy: 0.9890 - val_loss: 0.5632 - val_accuracy: 0.9152\n",
            "Epoch 216/250\n",
            "84/84 [==============================] - 39s 460ms/step - loss: 0.0399 - accuracy: 0.9856 - val_loss: 0.5492 - val_accuracy: 0.9146\n",
            "Epoch 217/250\n",
            "84/84 [==============================] - 39s 464ms/step - loss: 0.0350 - accuracy: 0.9870 - val_loss: 0.5634 - val_accuracy: 0.9156\n",
            "Epoch 218/250\n",
            "84/84 [==============================] - 39s 459ms/step - loss: 0.0289 - accuracy: 0.9889 - val_loss: 0.5828 - val_accuracy: 0.9144\n",
            "Epoch 219/250\n",
            "84/84 [==============================] - 39s 459ms/step - loss: 0.0319 - accuracy: 0.9883 - val_loss: 0.5910 - val_accuracy: 0.9157\n",
            "Epoch 220/250\n",
            "84/84 [==============================] - 39s 466ms/step - loss: 0.0311 - accuracy: 0.9886 - val_loss: 0.5963 - val_accuracy: 0.9133\n",
            "Epoch 221/250\n",
            "84/84 [==============================] - 39s 462ms/step - loss: 0.0290 - accuracy: 0.9901 - val_loss: 0.5847 - val_accuracy: 0.9123\n",
            "Epoch 222/250\n",
            "84/84 [==============================] - 40s 478ms/step - loss: 0.0325 - accuracy: 0.9880 - val_loss: 0.5861 - val_accuracy: 0.9147\n",
            "Epoch 223/250\n",
            "84/84 [==============================] - 39s 464ms/step - loss: 0.0340 - accuracy: 0.9873 - val_loss: 0.5822 - val_accuracy: 0.9114\n",
            "Epoch 224/250\n",
            "84/84 [==============================] - 39s 462ms/step - loss: 0.0342 - accuracy: 0.9874 - val_loss: 0.5755 - val_accuracy: 0.9119\n",
            "Epoch 225/250\n",
            "84/84 [==============================] - 40s 474ms/step - loss: 0.0305 - accuracy: 0.9885 - val_loss: 0.5974 - val_accuracy: 0.9156\n",
            "Epoch 226/250\n",
            "84/84 [==============================] - 39s 461ms/step - loss: 0.0295 - accuracy: 0.9894 - val_loss: 0.6099 - val_accuracy: 0.9117\n",
            "Epoch 227/250\n",
            "84/84 [==============================] - 39s 462ms/step - loss: 0.0334 - accuracy: 0.9879 - val_loss: 0.6153 - val_accuracy: 0.9139\n",
            "Epoch 228/250\n",
            "84/84 [==============================] - 39s 461ms/step - loss: 0.0294 - accuracy: 0.9897 - val_loss: 0.6103 - val_accuracy: 0.9159\n",
            "Epoch 229/250\n",
            "84/84 [==============================] - 39s 462ms/step - loss: 0.0306 - accuracy: 0.9890 - val_loss: 0.5996 - val_accuracy: 0.9148\n",
            "Epoch 230/250\n",
            "84/84 [==============================] - 39s 465ms/step - loss: 0.0296 - accuracy: 0.9896 - val_loss: 0.6076 - val_accuracy: 0.9136\n",
            "Epoch 231/250\n",
            "84/84 [==============================] - 39s 464ms/step - loss: 0.0314 - accuracy: 0.9885 - val_loss: 0.6192 - val_accuracy: 0.9140\n",
            "Epoch 232/250\n",
            "84/84 [==============================] - 39s 461ms/step - loss: 0.0318 - accuracy: 0.9888 - val_loss: 0.6312 - val_accuracy: 0.9117\n",
            "Epoch 233/250\n",
            "84/84 [==============================] - 39s 464ms/step - loss: 0.0331 - accuracy: 0.9884 - val_loss: 0.6134 - val_accuracy: 0.9125\n",
            "Epoch 234/250\n",
            "84/84 [==============================] - 39s 461ms/step - loss: 0.0310 - accuracy: 0.9891 - val_loss: 0.6103 - val_accuracy: 0.9118\n",
            "Epoch 235/250\n",
            "84/84 [==============================] - 39s 461ms/step - loss: 0.0332 - accuracy: 0.9880 - val_loss: 0.5943 - val_accuracy: 0.9153\n",
            "Epoch 236/250\n",
            "84/84 [==============================] - 39s 460ms/step - loss: 0.0352 - accuracy: 0.9871 - val_loss: 0.5906 - val_accuracy: 0.9168\n",
            "Epoch 237/250\n",
            "84/84 [==============================] - 39s 461ms/step - loss: 0.0281 - accuracy: 0.9899 - val_loss: 0.5989 - val_accuracy: 0.9147\n",
            "Epoch 238/250\n",
            "84/84 [==============================] - 39s 460ms/step - loss: 0.0307 - accuracy: 0.9886 - val_loss: 0.5854 - val_accuracy: 0.9155\n",
            "Epoch 239/250\n",
            "84/84 [==============================] - 40s 473ms/step - loss: 0.0275 - accuracy: 0.9904 - val_loss: 0.5969 - val_accuracy: 0.9172\n",
            "Epoch 240/250\n",
            "84/84 [==============================] - 39s 460ms/step - loss: 0.0315 - accuracy: 0.9895 - val_loss: 0.5815 - val_accuracy: 0.9131\n",
            "Epoch 241/250\n",
            "84/84 [==============================] - 39s 462ms/step - loss: 0.0301 - accuracy: 0.9893 - val_loss: 0.6112 - val_accuracy: 0.9105\n",
            "Epoch 242/250\n",
            "84/84 [==============================] - 39s 460ms/step - loss: 0.0287 - accuracy: 0.9894 - val_loss: 0.6239 - val_accuracy: 0.9127\n",
            "Epoch 243/250\n",
            "84/84 [==============================] - 39s 469ms/step - loss: 0.0335 - accuracy: 0.9872 - val_loss: 0.5928 - val_accuracy: 0.9136\n",
            "Epoch 244/250\n",
            "84/84 [==============================] - 39s 459ms/step - loss: 0.0309 - accuracy: 0.9890 - val_loss: 0.5986 - val_accuracy: 0.9149\n",
            "Epoch 245/250\n",
            "84/84 [==============================] - 39s 460ms/step - loss: 0.0285 - accuracy: 0.9898 - val_loss: 0.6115 - val_accuracy: 0.9104\n",
            "Epoch 246/250\n",
            "84/84 [==============================] - 39s 460ms/step - loss: 0.0281 - accuracy: 0.9900 - val_loss: 0.6288 - val_accuracy: 0.9131\n",
            "Epoch 247/250\n",
            "84/84 [==============================] - 39s 470ms/step - loss: 0.0310 - accuracy: 0.9886 - val_loss: 0.6229 - val_accuracy: 0.9153\n",
            "Epoch 248/250\n",
            "84/84 [==============================] - 39s 460ms/step - loss: 0.0288 - accuracy: 0.9898 - val_loss: 0.6347 - val_accuracy: 0.9117\n",
            "Epoch 249/250\n",
            "84/84 [==============================] - 39s 465ms/step - loss: 0.0286 - accuracy: 0.9895 - val_loss: 0.6301 - val_accuracy: 0.9146\n",
            "Epoch 250/250\n",
            "84/84 [==============================] - 39s 459ms/step - loss: 0.0280 - accuracy: 0.9900 - val_loss: 0.6290 - val_accuracy: 0.9157\n"
          ],
          "name": "stdout"
        }
      ]
    },
    {
      "source": [
        "Accuracy and Loss plot"
      ],
      "cell_type": "markdown",
      "metadata": {}
    },
    {
      "cell_type": "code",
      "metadata": {
        "colab": {
          "base_uri": "https://localhost:8080/",
          "height": 571
        },
        "id": "RrBSVp5GBXy1",
        "outputId": "477384d1-251a-4be8-f1a1-8da1e283f30e"
      },
      "source": [
        "epoch = len(history.history.get('loss',[]))\n",
        "\n",
        "# Plot Accuracy\n",
        "plt.figure(2,figsize=(6,4))\n",
        "plt.plot(range(epoch),history.history['accuracy'])\n",
        "plt.plot(range(epoch),history.history['val_accuracy'])\n",
        "plt.xlabel('# Epochs')\n",
        "plt.ylabel('Accuracy')\n",
        "plt.title('Model Accuracy')\n",
        "plt.legend(['train','validation'],loc=4)\n",
        "plt.style.use(['seaborn'])\n",
        "\n",
        "# Plot Loss\n",
        "plt.figure(1,figsize=(6,4))\n",
        "plt.plot(range(epoch),history.history['loss'])\n",
        "plt.plot(range(epoch),history.history['val_loss'])\n",
        "plt.xlabel('# Epochs')\n",
        "plt.ylabel('Loss')\n",
        "plt.title('Model Loss')\n",
        "plt.legend(['train','validation'])\n",
        "plt.style.use(['seaborn'])\n",
        "plt.savefig(\"Accuracy_loss.png\")"
      ],
      "execution_count": 30,
      "outputs": [
        {
          "output_type": "display_data",
          "data": {
            "image/png": "[encoded data removed]",
            "text/plain": [
              "<Figure size 432x288 with 1 Axes>"
            ]
          },
          "metadata": {
            "tags": []
          }
        },
        {
          "output_type": "display_data",
          "data": {
            "image/png": "[encoded data removed]",
            "text/plain": [
              "<Figure size 432x288 with 1 Axes>"
            ]
          },
          "metadata": {
            "tags": []
          }
        }
      ]
    },
    {
      "cell_type": "code",
      "metadata": {
        "id": "PjC6t8a-qbyY"
      },
      "source": [
        "#save model\n",
        "import torch\n",
        "from torchvision import datasets, models, transforms\n",
        "from google.colab import drive\n",
        "drive.mount('/content/gdrive')\n",
        "model_save_name = 'fashion_mnist.pt'\n",
        "path = F\"/content/gdrive/MyDrive/{model_save_name}\" \n",
        "torch.save(model.state_dict(), path)\n",
        "#my file id =4/1AY0e-g4jJl5-qa3bSPCLbgsRYgSgHAULkm_qbLOac4JpuZdPcALw_2Lj8sI"
      ],
      "execution_count": null,
      "outputs": []
    },
    {
      "cell_type": "code",
      "metadata": {
        "colab": {
          "base_uri": "https://localhost:8080/"
        },
        "id": "u64xz0RsOvlC",
        "outputId": "bd6f7b4a-0610-43d6-e0a9-d635b1fc6c69"
      },
      "source": [
        "model.save(path,\"fashion-mnist.h5\")"
      ],
      "execution_count": 22,
      "outputs": [
        {
          "output_type": "stream",
          "text": [
            "WARNING:tensorflow:From /usr/local/lib/python3.6/dist-packages/tensorflow/python/training/tracking/tracking.py:111: Model.state_updates (from tensorflow.python.keras.engine.training) is deprecated and will be removed in a future version.\n",
            "Instructions for updating:\n",
            "This property should not be used in TensorFlow 2.0, as updates are applied automatically.\n",
            "WARNING:tensorflow:From /usr/local/lib/python3.6/dist-packages/tensorflow/python/training/tracking/tracking.py:111: Layer.updates (from tensorflow.python.keras.engine.base_layer) is deprecated and will be removed in a future version.\n",
            "Instructions for updating:\n",
            "This property should not be used in TensorFlow 2.0, as updates are applied automatically.\n",
            "INFO:tensorflow:Assets written to: /content/gdrive/MyDrive/fashion_mnist.pt/assets\n"
          ],
          "name": "stdout"
        }
      ]
    },
    {
      "cell_type": "code",
      "metadata": {
        "id": "Plc2tg51jbHJ"
      },
      "source": [
        "model.save(\"fashion_minst_conv.h5\")"
      ],
      "execution_count": 97,
      "outputs": []
    },
    {
      "cell_type": "code",
      "metadata": {
        "colab": {
          "base_uri": "https://localhost:8080/"
        },
        "id": "z7mLlUU6Ouqc",
        "outputId": "f3ad1d47-edd6-4b22-d5de-b056c8eadf00"
      },
      "source": [
        "model.evaluate(X_train,y_cat)"
      ],
      "execution_count": 32,
      "outputs": [
        {
          "output_type": "stream",
          "text": [
            "1875/1875 [==============================] - 20s 11ms/step - loss: 0.1927 - accuracy: 0.9739\n"
          ],
          "name": "stdout"
        },
        {
          "output_type": "execute_result",
          "data": {
            "text/plain": [
              "[0.19270052015781403, 0.9739333391189575]"
            ]
          },
          "metadata": {
            "tags": []
          },
          "execution_count": 32
        }
      ]
    },
    {
      "cell_type": "markdown",
      "metadata": {
        "id": "lygDL-ngrLyg"
      },
      "source": [
        "### Predict on **test data** \n",
        "\n"
      ]
    },
    {
      "cell_type": "markdown",
      "metadata": {
        "id": "BX9yZYYIrhc0"
      },
      "source": [
        "Prepare test data"
      ]
    },
    {
      "cell_type": "code",
      "metadata": {
        "id": "JvPGPzFbrxtH"
      },
      "source": [
        "fashion_test=pd.read_csv(\"/content/fashion-mnist_test.csv\")\n",
        "X_test=fashion_test.iloc[:,1:]\n",
        "y_test=fashion_test.iloc[:,0]"
      ],
      "execution_count": 33,
      "outputs": []
    },
    {
      "cell_type": "code",
      "metadata": {
        "id": "6YIQ1KDZrKn3"
      },
      "source": [
        "# Convert data points from pixels to weighted values\n",
        "X_test = np.array(X_test).reshape(X_test.shape[0],28, 28, 1).astype( 'float32' )\n",
        "X_test = X_test/ 255.0\n",
        "\n",
        "# Save the actual label of the test data - we can call it 'correct answer'\n",
        "y_test_cat=  to_categorical(y_test, num_classes=10)"
      ],
      "execution_count": 36,
      "outputs": []
    },
    {
      "cell_type": "markdown",
      "metadata": {
        "id": "sDuP23jjs17v"
      },
      "source": [
        "Predict results"
      ]
    },
    {
      "cell_type": "code",
      "metadata": {
        "id": "mdvVNL0LqmGf"
      },
      "source": [
        "# Predict the labels for the unseen test data\n",
        "predictions = model.predict(X_test)"
      ],
      "execution_count": 38,
      "outputs": []
    },
    {
      "cell_type": "code",
      "metadata": {
        "colab": {
          "base_uri": "https://localhost:8080/"
        },
        "id": "tmF7P5bUs4GC",
        "outputId": "b3602fdc-d2b2-47ce-c438-ae8b9484c8ec"
      },
      "source": [
        "predictions[0]"
      ],
      "execution_count": 39,
      "outputs": [
        {
          "output_type": "execute_result",
          "data": {
            "text/plain": [
              "array([1.0000000e+00, 5.9279168e-26, 4.1170185e-18, 4.5100337e-25,\n",
              "       1.8725305e-19, 3.2091662e-24, 1.5050345e-18, 1.0950281e-27,\n",
              "       7.9102295e-16, 1.8967526e-25], dtype=float32)"
            ]
          },
          "metadata": {
            "tags": []
          },
          "execution_count": 39
        }
      ]
    },
    {
      "cell_type": "code",
      "metadata": {
        "colab": {
          "base_uri": "https://localhost:8080/"
        },
        "id": "z2d7KKmuYg70",
        "outputId": "36c73b78-77e9-4926-ef69-6f609e059ea9"
      },
      "source": [
        "pred_label = [np.argmax(i) for i in predictions]\n",
        "pred_label[:5]"
      ],
      "execution_count": 43,
      "outputs": [
        {
          "output_type": "execute_result",
          "data": {
            "text/plain": [
              "[0, 1, 2, 6, 4]"
            ]
          },
          "metadata": {
            "tags": []
          },
          "execution_count": 43
        }
      ]
    },
    {
      "cell_type": "code",
      "metadata": {
        "colab": {
          "base_uri": "https://localhost:8080/"
        },
        "id": "0HaZQq-Cs6tI",
        "outputId": "087751d0-70ee-4798-aec3-ba88958bed20"
      },
      "source": [
        "\n",
        "correctly_classified = []\n",
        "incorrectly_classified = []\n",
        "index = 0\n",
        "for actual, predict in zip(y_test, pred_label):\n",
        "    if actual == predict:\n",
        "        correctly_classified.append(index)\n",
        "    else:\n",
        "        incorrectly_classified.append(index)\n",
        "    index += 1\n",
        "\n",
        "ccc = len(correctly_classified)\n",
        "icc = len(incorrectly_classified)\n",
        "print('Correctly classified clothing items  : {:5d} ({:=5.2f} %)'.format(ccc, ccc * 100 / (ccc + icc)))    \n",
        "print('Incorrectly classified clothing items: {:5d} ({:=5.2f} %)'.format(icc, icc * 100 / (ccc + icc)))  \n",
        "incorrectly_classified[:5]"
      ],
      "execution_count": 145,
      "outputs": [
        {
          "output_type": "stream",
          "text": [
            "Correctly classified clothing items  :  9167 (91.67 %)\n",
            "Incorrectly classified clothing items:   833 ( 8.33 %)\n"
          ],
          "name": "stdout"
        },
        {
          "output_type": "execute_result",
          "data": {
            "text/plain": [
              "[3, 4, 5, 11, 38]"
            ]
          },
          "metadata": {
            "tags": []
          },
          "execution_count": 145
        }
      ]
    },
    {
      "cell_type": "markdown",
      "metadata": {
        "id": "ElTzohdUR0n7"
      },
      "source": [
        "Confusion matrix"
      ]
    },
    {
      "cell_type": "code",
      "metadata": {
        "colab": {
          "base_uri": "https://localhost:8080/",
          "height": 415
        },
        "id": "KMp9_BAtY3eg",
        "outputId": "0cfd2b4f-6d5a-4370-8801-a13fbcaaeaeb"
      },
      "source": [
        "# Calculate confusion matrix\n",
        "from sklearn.metrics import confusion_matrix\n",
        "import seaborn as sns\n",
        "\n",
        "label_names=pd.merge(pd.DataFrame(pred_label, columns=[\"Labels_pred\"]), labels, how='left', left_on=['Labels_pred'], right_on=['Label']).drop(\"Label\", axis=1)\n",
        "conf_matrix = confusion_matrix(y_test, label_names.iloc[:,0])\n",
        "\n",
        "# display confusion matrix as heatmap\n",
        "ax = sns.heatmap(conf_matrix, \n",
        "            cmap='Blues', \n",
        "            xticklabels=label_names.iloc[:,1].unique(), \n",
        "            yticklabels=label_names.iloc[:,1].unique(),\n",
        "            annot=True,\n",
        "            fmt='d')\n",
        "\n",
        "plt.xlabel('Predicted label') \n",
        "plt.ylabel('Correct label') \n",
        "\n",
        "plt.show()\n",
        "plt.savefig(\"Confusion_matrix.png\")"
      ],
      "execution_count": 98,
      "outputs": [
        {
          "output_type": "display_data",
          "data": {
            "image/png": "[encoded data removed]",
            "text/plain": [
              "<Figure size 576x396 with 2 Axes>"
            ]
          },
          "metadata": {
            "tags": []
          }
        },
        {
          "output_type": "display_data",
          "data": {
            "text/plain": [
              "<Figure size 576x396 with 0 Axes>"
            ]
          },
          "metadata": {
            "tags": []
          }
        }
      ]
    },
    {
      "cell_type": "markdown",
      "metadata": {
        "id": "UIvtbFtSRxVX"
      },
      "source": [
        "Precision per category"
      ]
    },
    {
      "cell_type": "code",
      "metadata": {
        "colab": {
          "base_uri": "https://localhost:8080/",
          "height": 417
        },
        "id": "sYuwhhhgcnqB",
        "outputId": "f110f503-4b7a-4ec0-af81-4a0b964382b6"
      },
      "source": [
        "from sklearn.metrics import precision_score, recall_score\n",
        "precision=precision_score(y_test, label_names.iloc[:,0], average=None)\n",
        "\n",
        "y_pos = np.arange(len(precision))\n",
        "\n",
        "plt.bar(y_pos, precision, align='center')\n",
        "plt.xticks(y_pos, labels.iloc[:,1], rotation=90)\n",
        "plt.ylabel('Precision')\n",
        "plt.title('Precision scores per class')\n",
        "\n",
        "plt.show()\n",
        "plt.savefig(\"Precision per category.png\")"
      ],
      "execution_count": 137,
      "outputs": [
        {
          "output_type": "display_data",
          "data": {
            "image/png": "[encoded data removed]",
            "text/plain": [
              "<Figure size 576x396 with 1 Axes>"
            ]
          },
          "metadata": {
            "tags": []
          }
        },
        {
          "output_type": "display_data",
          "data": {
            "text/plain": [
              "<Figure size 576x396 with 0 Axes>"
            ]
          },
          "metadata": {
            "tags": []
          }
        }
      ]
    },
    {
      "source": [
        "Recall per Category"
      ],
      "cell_type": "markdown",
      "metadata": {}
    },
    {
      "cell_type": "code",
      "metadata": {
        "colab": {
          "base_uri": "https://localhost:8080/",
          "height": 417
        },
        "id": "TQO1fhFD7mQL",
        "outputId": "b4677131-c028-4695-d048-2bb975556de8"
      },
      "source": [
        "#recall per category\n",
        "\n",
        "recall_score=recall_score(y_test, label_names.iloc[:,0], average=None)\n",
        "\n",
        "y_pos = np.arange(len(recall_score))\n",
        "\n",
        "plt.bar(y_pos, recall_score, align='center')\n",
        "plt.xticks(y_pos, labels.iloc[:,1], rotation=90)\n",
        "plt.ylabel('Recall')\n",
        "plt.title('Recall scores per class')\n",
        "\n",
        "plt.show()\n",
        "plt.savefig(\"Recall per category.png\")"
      ],
      "execution_count": 138,
      "outputs": [
        {
          "output_type": "display_data",
          "data": {
            "image/png": "[encoded data removed]",
            "text/plain": [
              "<Figure size 576x396 with 1 Axes>"
            ]
          },
          "metadata": {
            "tags": []
          }
        },
        {
          "output_type": "display_data",
          "data": {
            "text/plain": [
              "<Figure size 576x396 with 0 Axes>"
            ]
          },
          "metadata": {
            "tags": []
          }
        }
      ]
    },
    {
      "cell_type": "markdown",
      "metadata": {
        "id": "tCRY26-bR4rb"
      },
      "source": [
        "Wrong predictions"
      ]
    },
    {
      "cell_type": "code",
      "metadata": {
        "colab": {
          "base_uri": "https://localhost:8080/",
          "height": 436
        },
        "id": "CXqWfDMY7_qE",
        "outputId": "68f55e85-bdd3-4b12-dccc-66a8cc442919"
      },
      "source": [
        "###What have we not predicted correct\n",
        "plt.figure(figsize=(15,15))\n",
        "i=0\n",
        "for idx in incorrectly_classified[:6]:\n",
        "   plt.imshow(X_test[idx].reshape(28,28,))\n",
        "   plt.subplot(4,5,i+1)\n",
        "   plt.title(f\"Predicted:{label_names['Description'][idx]}\")\n",
        "   i+=1\n",
        "\n",
        "plt.savefig(\"Wrong_predictions.png\")"
      ],
      "execution_count": 158,
      "outputs": [
        {
          "output_type": "display_data",
          "data": {
            "image/png": "[encoded data removed]",
            "text/plain": [
              "<Figure size 1080x1080 with 6 Axes>"
            ]
          },
          "metadata": {
            "tags": []
          }
        }
      ]
    },
    {
      "cell_type": "markdown",
      "metadata": {
        "id": "_wAoXCFCoRvh"
      },
      "source": [
        "### Adding early stopping and increase neurons in both CONV2d and Dense"
      ]
    },
    {
      "cell_type": "code",
      "metadata": {
        "colab": {
          "base_uri": "https://localhost:8080/"
        },
        "id": "5Qjjj0jNoJa8",
        "outputId": "3eab1142-4b99-43d7-8c21-7860db721af4"
      },
      "source": [
        " #initilaize and compile model\n",
        "\n",
        "model2 = Sequential()\n",
        "\n",
        "# Add a 2D convolution layer with 64 units to the model\n",
        "model2.add(Conv2D(filters=64, kernel_size=2, padding='same',\n",
        "                 activation='relu', input_shape=(28, 28, 1)))\n",
        "# Add a max pooling operation for spatial data\n",
        "model2.add(MaxPooling2D(pool_size=2))\n",
        "\n",
        "# add 2 more 2D convolutional networks, with 32 layers\n",
        "# after add pooling\n",
        "for i in range(3):\n",
        "    model2.add(Conv2D(\n",
        "        filters=32, kernel_size=2, padding='same', activation='relu'))\n",
        "    model2.add(tf.keras.layers.MaxPooling2D(pool_size=2))\n",
        "\n",
        "# flatten layers to pass to Dense layer\n",
        "model2.add(tf.keras.layers.Flatten())\n",
        "\n",
        "# add 2 dense layers with 150 units\n",
        "for i in range(2):\n",
        "    model2.add(Dense(500, activation='relu'))\n",
        "    model2.add(Dropout(0.2))\n",
        "\n",
        "# Add a softmax layer with 10 output units:\n",
        "model2.add(tf.keras.layers.Dense(10, activation='softmax'))\n",
        "\n",
        "model2.summary()\n",
        "\n",
        "model2.compile(loss='categorical_crossentropy',\n",
        "              optimizer='adam',\n",
        "              metrics=['accuracy'])\n",
        "\n",
        "\n"
      ],
      "execution_count": 102,
      "outputs": [
        {
          "output_type": "stream",
          "text": [
            "Model: \"sequential_3\"\n",
            "_________________________________________________________________\n",
            "Layer (type)                 Output Shape              Param #   \n",
            "=================================================================\n",
            "conv2d_6 (Conv2D)            (None, 28, 28, 64)        320       \n",
            "_________________________________________________________________\n",
            "max_pooling2d_6 (MaxPooling2 (None, 14, 14, 64)        0         \n",
            "_________________________________________________________________\n",
            "conv2d_7 (Conv2D)            (None, 14, 14, 32)        8224      \n",
            "_________________________________________________________________\n",
            "max_pooling2d_7 (MaxPooling2 (None, 7, 7, 32)          0         \n",
            "_________________________________________________________________\n",
            "conv2d_8 (Conv2D)            (None, 7, 7, 32)          4128      \n",
            "_________________________________________________________________\n",
            "max_pooling2d_8 (MaxPooling2 (None, 3, 3, 32)          0         \n",
            "_________________________________________________________________\n",
            "conv2d_9 (Conv2D)            (None, 3, 3, 32)          4128      \n",
            "_________________________________________________________________\n",
            "max_pooling2d_9 (MaxPooling2 (None, 1, 1, 32)          0         \n",
            "_________________________________________________________________\n",
            "flatten_2 (Flatten)          (None, 32)                0         \n",
            "_________________________________________________________________\n",
            "dense_6 (Dense)              (None, 500)               16500     \n",
            "_________________________________________________________________\n",
            "dropout_4 (Dropout)          (None, 500)               0         \n",
            "_________________________________________________________________\n",
            "dense_7 (Dense)              (None, 500)               250500    \n",
            "_________________________________________________________________\n",
            "dropout_5 (Dropout)          (None, 500)               0         \n",
            "_________________________________________________________________\n",
            "dense_8 (Dense)              (None, 10)                5010      \n",
            "=================================================================\n",
            "Total params: 288,810\n",
            "Trainable params: 288,810\n",
            "Non-trainable params: 0\n",
            "_________________________________________________________________\n"
          ],
          "name": "stdout"
        }
      ]
    },
    {
      "cell_type": "code",
      "metadata": {
        "colab": {
          "base_uri": "https://localhost:8080/"
        },
        "id": "RwNSssjQo7yT",
        "outputId": "a904f716-818b-4f71-ca02-a4d9c181035b"
      },
      "source": [
        "# Feed input data and label data into the model and save it\n",
        "callback=tf.keras.callbacks.EarlyStopping(monitor='val_loss', patience=5)\n",
        "history = model2.fit(X_train,\n",
        "                    y_cat,\n",
        "                    validation_split=0.30,\n",
        "                    epochs=250,\n",
        "                    batch_size=500, callbacks=[callback])"
      ],
      "execution_count": 103,
      "outputs": [
        {
          "output_type": "stream",
          "text": [
            "Epoch 1/250\n",
            "84/84 [==============================] - 42s 502ms/step - loss: 1.1683 - accuracy: 0.5615 - val_loss: 0.6878 - val_accuracy: 0.7281\n",
            "Epoch 2/250\n",
            "84/84 [==============================] - 43s 517ms/step - loss: 0.6499 - accuracy: 0.7433 - val_loss: 0.5914 - val_accuracy: 0.7689\n",
            "Epoch 3/250\n",
            "84/84 [==============================] - 42s 504ms/step - loss: 0.5607 - accuracy: 0.7811 - val_loss: 0.5285 - val_accuracy: 0.7946\n",
            "Epoch 4/250\n",
            "84/84 [==============================] - 42s 506ms/step - loss: 0.4979 - accuracy: 0.8108 - val_loss: 0.4675 - val_accuracy: 0.8258\n",
            "Epoch 5/250\n",
            "84/84 [==============================] - 42s 506ms/step - loss: 0.4578 - accuracy: 0.8293 - val_loss: 0.4379 - val_accuracy: 0.8378\n",
            "Epoch 6/250\n",
            "84/84 [==============================] - 42s 506ms/step - loss: 0.4227 - accuracy: 0.8443 - val_loss: 0.4134 - val_accuracy: 0.8468\n",
            "Epoch 7/250\n",
            "84/84 [==============================] - 43s 506ms/step - loss: 0.4015 - accuracy: 0.8535 - val_loss: 0.3863 - val_accuracy: 0.8589\n",
            "Epoch 8/250\n",
            "84/84 [==============================] - 43s 508ms/step - loss: 0.3791 - accuracy: 0.8615 - val_loss: 0.3832 - val_accuracy: 0.8609\n",
            "Epoch 9/250\n",
            "84/84 [==============================] - 43s 517ms/step - loss: 0.3657 - accuracy: 0.8656 - val_loss: 0.3654 - val_accuracy: 0.8680\n",
            "Epoch 10/250\n",
            "84/84 [==============================] - 43s 515ms/step - loss: 0.3501 - accuracy: 0.8726 - val_loss: 0.3681 - val_accuracy: 0.8659\n",
            "Epoch 11/250\n",
            "84/84 [==============================] - 43s 507ms/step - loss: 0.3366 - accuracy: 0.8776 - val_loss: 0.3496 - val_accuracy: 0.8757\n",
            "Epoch 12/250\n",
            "84/84 [==============================] - 43s 507ms/step - loss: 0.3293 - accuracy: 0.8792 - val_loss: 0.3462 - val_accuracy: 0.8746\n",
            "Epoch 13/250\n",
            "84/84 [==============================] - 43s 508ms/step - loss: 0.3228 - accuracy: 0.8824 - val_loss: 0.3258 - val_accuracy: 0.8833\n",
            "Epoch 14/250\n",
            "84/84 [==============================] - 43s 508ms/step - loss: 0.3117 - accuracy: 0.8863 - val_loss: 0.3437 - val_accuracy: 0.8732\n",
            "Epoch 15/250\n",
            "84/84 [==============================] - 43s 509ms/step - loss: 0.3024 - accuracy: 0.8900 - val_loss: 0.3313 - val_accuracy: 0.8789\n",
            "Epoch 16/250\n",
            "84/84 [==============================] - 44s 518ms/step - loss: 0.3015 - accuracy: 0.8888 - val_loss: 0.3195 - val_accuracy: 0.8869\n",
            "Epoch 17/250\n",
            "84/84 [==============================] - 45s 534ms/step - loss: 0.2909 - accuracy: 0.8938 - val_loss: 0.3051 - val_accuracy: 0.8898\n",
            "Epoch 18/250\n",
            "84/84 [==============================] - 43s 513ms/step - loss: 0.2833 - accuracy: 0.8958 - val_loss: 0.3106 - val_accuracy: 0.8869\n",
            "Epoch 19/250\n",
            "84/84 [==============================] - 43s 507ms/step - loss: 0.2789 - accuracy: 0.8979 - val_loss: 0.3085 - val_accuracy: 0.8879\n",
            "Epoch 20/250\n",
            "84/84 [==============================] - 43s 508ms/step - loss: 0.2687 - accuracy: 0.9006 - val_loss: 0.3170 - val_accuracy: 0.8883\n",
            "Epoch 21/250\n",
            "84/84 [==============================] - 43s 508ms/step - loss: 0.2701 - accuracy: 0.9011 - val_loss: 0.2968 - val_accuracy: 0.8937\n",
            "Epoch 22/250\n",
            "84/84 [==============================] - 43s 508ms/step - loss: 0.2565 - accuracy: 0.9051 - val_loss: 0.3004 - val_accuracy: 0.8931\n",
            "Epoch 23/250\n",
            "84/84 [==============================] - 43s 510ms/step - loss: 0.2615 - accuracy: 0.9037 - val_loss: 0.3060 - val_accuracy: 0.8914\n",
            "Epoch 24/250\n",
            "84/84 [==============================] - 43s 510ms/step - loss: 0.2573 - accuracy: 0.9057 - val_loss: 0.3191 - val_accuracy: 0.8860\n",
            "Epoch 25/250\n",
            "84/84 [==============================] - 43s 511ms/step - loss: 0.2464 - accuracy: 0.9094 - val_loss: 0.3010 - val_accuracy: 0.8929\n",
            "Epoch 26/250\n",
            "84/84 [==============================] - 43s 508ms/step - loss: 0.2436 - accuracy: 0.9107 - val_loss: 0.2948 - val_accuracy: 0.8963\n",
            "Epoch 27/250\n",
            "84/84 [==============================] - 43s 508ms/step - loss: 0.2437 - accuracy: 0.9093 - val_loss: 0.2958 - val_accuracy: 0.8935\n",
            "Epoch 28/250\n",
            "84/84 [==============================] - 43s 506ms/step - loss: 0.2343 - accuracy: 0.9131 - val_loss: 0.2967 - val_accuracy: 0.8963\n",
            "Epoch 29/250\n",
            "84/84 [==============================] - 43s 507ms/step - loss: 0.2350 - accuracy: 0.9125 - val_loss: 0.3032 - val_accuracy: 0.8894\n",
            "Epoch 30/250\n",
            "84/84 [==============================] - 43s 513ms/step - loss: 0.2276 - accuracy: 0.9166 - val_loss: 0.2896 - val_accuracy: 0.8964\n",
            "Epoch 31/250\n",
            "84/84 [==============================] - 43s 506ms/step - loss: 0.2290 - accuracy: 0.9148 - val_loss: 0.2864 - val_accuracy: 0.9001\n",
            "Epoch 32/250\n",
            "84/84 [==============================] - 44s 518ms/step - loss: 0.2238 - accuracy: 0.9166 - val_loss: 0.2825 - val_accuracy: 0.8992\n",
            "Epoch 33/250\n",
            "84/84 [==============================] - 43s 507ms/step - loss: 0.2229 - accuracy: 0.9164 - val_loss: 0.2837 - val_accuracy: 0.9012\n",
            "Epoch 34/250\n",
            "84/84 [==============================] - 42s 506ms/step - loss: 0.2200 - accuracy: 0.9181 - val_loss: 0.2830 - val_accuracy: 0.8970\n",
            "Epoch 35/250\n",
            "84/84 [==============================] - 43s 507ms/step - loss: 0.2161 - accuracy: 0.9190 - val_loss: 0.2795 - val_accuracy: 0.9017\n",
            "Epoch 36/250\n",
            "84/84 [==============================] - 43s 506ms/step - loss: 0.2123 - accuracy: 0.9205 - val_loss: 0.2834 - val_accuracy: 0.9001\n",
            "Epoch 37/250\n",
            "84/84 [==============================] - 43s 510ms/step - loss: 0.2106 - accuracy: 0.9215 - val_loss: 0.2876 - val_accuracy: 0.8973\n",
            "Epoch 38/250\n",
            "84/84 [==============================] - 42s 506ms/step - loss: 0.2085 - accuracy: 0.9217 - val_loss: 0.2914 - val_accuracy: 0.8982\n",
            "Epoch 39/250\n",
            "84/84 [==============================] - 43s 514ms/step - loss: 0.2017 - accuracy: 0.9252 - val_loss: 0.2852 - val_accuracy: 0.8991\n",
            "Epoch 40/250\n",
            "84/84 [==============================] - 43s 512ms/step - loss: 0.2017 - accuracy: 0.9237 - val_loss: 0.2909 - val_accuracy: 0.9003\n"
          ],
          "name": "stdout"
        }
      ]
    },
    {
      "cell_type": "code",
      "metadata": {
        "colab": {
          "base_uri": "https://localhost:8080/"
        },
        "id": "1ry6xvcMpyrP",
        "outputId": "3fe3048f-f21f-4057-be56-b98f523e5b37"
      },
      "source": [
        "model2.evaluate(X_train,y_cat)"
      ],
      "execution_count": 105,
      "outputs": [
        {
          "output_type": "stream",
          "text": [
            "1875/1875 [==============================] - 22s 12ms/step - loss: 0.2154 - accuracy: 0.9219\n"
          ],
          "name": "stdout"
        },
        {
          "output_type": "execute_result",
          "data": {
            "text/plain": [
              "[0.21535587310791016, 0.9218500256538391]"
            ]
          },
          "metadata": {
            "tags": []
          },
          "execution_count": 105
        }
      ]
    },
    {
      "cell_type": "code",
      "metadata": {
        "id": "1PnkXzV_w6Kh"
      },
      "source": [
        ""
      ],
      "execution_count": null,
      "outputs": []
    }
  ]
}